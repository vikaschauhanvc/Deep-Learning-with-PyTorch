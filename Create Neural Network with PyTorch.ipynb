{
 "cells": [
  {
   "cell_type": "markdown",
   "metadata": {},
   "source": [
    "# Create Simple Neural Network with PyTorch "
   ]
  },
  {
   "cell_type": "code",
   "execution_count": 1,
   "metadata": {},
   "outputs": [],
   "source": [
    "import numpy as np \n",
    "import matplotlib.pyplot as plt\n",
    "import torch "
   ]
  },
  {
   "cell_type": "markdown",
   "metadata": {},
   "source": [
    "## Task 1 : Loading and Visualizing MNIST Dataset "
   ]
  },
  {
   "cell_type": "code",
   "execution_count": 2,
   "metadata": {},
   "outputs": [],
   "source": [
    "from torchvision import datasets,transforms as T\n",
    "\n",
    "transform = T.Compose([\n",
    "    T.ToTensor(),\n",
    "    T.Normalize((0.5),(0.5))\n",
    "])"
   ]
  },
  {
   "cell_type": "code",
   "execution_count": 3,
   "metadata": {},
   "outputs": [],
   "source": [
    "trainset = datasets.MNIST('MNIST_data/',download = True,train = True,transform=transform)\n",
    "testset = datasets.MNIST('MNIST_data/',download=True,train=False,transform=transform)"
   ]
  },
  {
   "cell_type": "code",
   "execution_count": 4,
   "metadata": {},
   "outputs": [
    {
     "name": "stdout",
     "output_type": "stream",
     "text": [
      "Size of trainset 60000\n",
      "Size of testset 10000\n"
     ]
    }
   ],
   "source": [
    "print(\"Size of trainset {}\".format(len(trainset)))\n",
    "print(\"Size of testset {}\".format(len(testset)))"
   ]
  },
  {
   "cell_type": "code",
   "execution_count": 5,
   "metadata": {},
   "outputs": [
    {
     "data": {
      "image/png": "[encoded data removed]",
      "text/plain": [
       "<Figure size 432x288 with 1 Axes>"
      ]
     },
     "metadata": {
      "needs_background": "light"
     },
     "output_type": "display_data"
    }
   ],
   "source": [
    "idx = 2\n",
    "image,label = trainset[idx]\n",
    "plt.imshow(image.numpy().squeeze(),cmap = \"gray\")\n",
    "plt.title(label);"
   ]
  },
  {
   "cell_type": "markdown",
   "metadata": {},
   "source": [
    "## Task 2 : Splitting Dataset and Setting DataLoader Into Train,Test and Validation Set"
   ]
  },
  {
   "cell_type": "code",
   "execution_count": 6,
   "metadata": {},
   "outputs": [],
   "source": [
    "from torch.utils.data.sampler import SubsetRandomSampler\n",
    "from torch.utils.data import DataLoader\n",
    "\n",
    "valid_size = 0.2 \n",
    "\n",
    "num_train = len(trainset)    #60000\n",
    "indices = list(range(num_train))  #[0,1,2,3,.....59999]\n",
    "np.random.shuffle(indices)  #[2,3,40000,3,.....6,10]\n",
    "split = int(np.floor(valid_size*num_train)) #12000\n",
    "train_idx, valid_idx = indices[split:],indices[:split]"
   ]
  },
  {
   "cell_type": "code",
   "execution_count": 7,
   "metadata": {},
   "outputs": [],
   "source": [
    "train_sampler = SubsetRandomSampler(train_idx)\n",
    "valid_sampler = SubsetRandomSampler(valid_idx)"
   ]
  },
  {
   "cell_type": "code",
   "execution_count": 8,
   "metadata": {},
   "outputs": [],
   "source": [
    "trainloader = DataLoader(trainset, batch_size = 64, sampler = train_sampler)\n",
    "testloader = DataLoader(testset, batch_size = 64)\n",
    "validloader = DataLoader(trainset,batch_size=64,sampler=valid_sampler)"
   ]
  },
  {
   "cell_type": "code",
   "execution_count": 9,
   "metadata": {},
   "outputs": [
    {
     "name": "stdout",
     "output_type": "stream",
     "text": [
      "<class 'torch.Tensor'>\n",
      "torch.Size([64, 1, 28, 28])\n",
      "torch.Size([64])\n"
     ]
    }
   ],
   "source": [
    "dataiter = iter(trainloader)\n",
    "images,labels = dataiter.next()\n",
    "\n",
    "print(type(images))\n",
    "print(images.shape)\n",
    "print(labels.shape)"
   ]
  },
  {
   "cell_type": "code",
   "execution_count": 10,
   "metadata": {},
   "outputs": [
    {
     "name": "stdout",
     "output_type": "stream",
     "text": [
      "Batches in TrainLoader : 750\n",
      "Batches in ValidLoader : 188\n",
      "Batches in TestLoader : 157\n",
      "Examples in TrainLoader : 48000\n",
      "Examples in ValidLoader : 12000\n",
      "Examples in TestLoader : 10000\n"
     ]
    }
   ],
   "source": [
    "print(\"Batches in TrainLoader : {}\".format(len(trainloader)))\n",
    "print(\"Batches in ValidLoader : {}\".format(len(validloader)))\n",
    "print(\"Batches in TestLoader : {}\".format(len(testloader)))\n",
    "\n",
    "print(\"Examples in TrainLoader : {}\".format(len(trainloader.sampler)))\n",
    "print(\"Examples in ValidLoader : {}\".format(len(validloader.sampler)))\n",
    "print(\"Examples in TestLoader : {}\".format(len(testloader.dataset)))"
   ]
  },
  {
   "cell_type": "markdown",
   "metadata": {},
   "source": [
    "## Task 3 : Creating Neural Network or Model"
   ]
  },
  {
   "cell_type": "code",
   "execution_count": 11,
   "metadata": {},
   "outputs": [],
   "source": [
    "from torch import nn \n",
    "import torch.nn.functional as F\n",
    "\n",
    "class Classifier(nn.Module):\n",
    "\n",
    "    def __init__(self):\n",
    "        super(Classifier,self).__init__()\n",
    "\n",
    "        self.linear1 = nn.Linear(784,256)\n",
    "        self.linear2 = nn.Linear(256,128)\n",
    "        self.linear3 = nn.Linear(128,10)\n",
    "        self.dropout = nn.Dropout(0.4)\n",
    "\n",
    "    def forward(self,x):\n",
    "\n",
    "        x = x.view(x.shape[0],-1) #[64,1,28,28] -> [64,784]\n",
    "\n",
    "        z1 = self.linear1(x)\n",
    "        a1 = self.dropout(F.relu(z1))\n",
    "\n",
    "        z2 = self.linear2(a1)\n",
    "        a2 = self.dropout(F.relu(z2))\n",
    "\n",
    "        z3 = self.linear3(a2)\n",
    "        a3 = self.dropout(F.log_softmax(z3,dim=1))\n",
    "\n",
    "        return a3"
   ]
  },
  {
   "cell_type": "code",
   "execution_count": 12,
   "metadata": {},
   "outputs": [
    {
     "data": {
      "text/plain": [
       "Classifier(\n",
       "  (linear1): Linear(in_features=784, out_features=256, bias=True)\n",
       "  (linear2): Linear(in_features=256, out_features=128, bias=True)\n",
       "  (linear3): Linear(in_features=128, out_features=10, bias=True)\n",
       "  (dropout): Dropout(p=0.4, inplace=False)\n",
       ")"
      ]
     },
     "execution_count": 12,
     "metadata": {},
     "output_type": "execute_result"
    }
   ],
   "source": [
    "model = Classifier()\n",
    "model"
   ]
  },
  {
   "cell_type": "code",
   "execution_count": 13,
   "metadata": {},
   "outputs": [
    {
     "name": "stdout",
     "output_type": "stream",
     "text": [
      "----------------------------------------------------------------\n",
      "        Layer (type)               Output Shape         Param #\n",
      "================================================================\n",
      "            Linear-1                  [-1, 256]         200,960\n",
      "           Dropout-2                  [-1, 256]               0\n",
      "            Linear-3                  [-1, 128]          32,896\n",
      "           Dropout-4                  [-1, 128]               0\n",
      "            Linear-5                   [-1, 10]           1,290\n",
      "           Dropout-6                   [-1, 10]               0\n",
      "================================================================\n",
      "Total params: 235,146\n",
      "Trainable params: 235,146\n",
      "Non-trainable params: 0\n",
      "----------------------------------------------------------------\n",
      "Input size (MB): 0.00\n",
      "Forward/backward pass size (MB): 0.01\n",
      "Params size (MB): 0.90\n",
      "Estimated Total Size (MB): 0.91\n",
      "----------------------------------------------------------------\n"
     ]
    }
   ],
   "source": [
    "from torchsummary import summary\n",
    "\n",
    "summary(model,input_size=(1,28,28))"
   ]
  },
  {
   "cell_type": "markdown",
   "metadata": {},
   "source": [
    "## Task 4 : Training Neural Network"
   ]
  },
  {
   "cell_type": "code",
   "execution_count": 14,
   "metadata": {},
   "outputs": [],
   "source": [
    "from torch import optim\n",
    "from utils import multiclass_accuracy,view_classify\n",
    "\n",
    "criterion = nn.NLLLoss()\n",
    "optimizer = optim.Adam(model.parameters(), lr = 0.003)\n",
    "epochs = 10"
   ]
  },
  {
   "cell_type": "code",
   "execution_count": 15,
   "metadata": {},
   "outputs": [
    {
     "name": "stdout",
     "output_type": "stream",
     "text": [
      "Epoch : 1 Training Loss : 0.7201 Validation Loss: 0.3530 Validation acc : 0.8901\n",
      "Epoch : 2 Training Loss : 0.5144 Validation Loss: 0.3100 Validation acc : 0.9104\n",
      "Epoch : 3 Training Loss : 0.4826 Validation Loss: 0.2993 Validation acc : 0.9126\n",
      "Epoch : 4 Training Loss : 0.4483 Validation Loss: 0.2629 Validation acc : 0.9250\n",
      "Epoch : 5 Training Loss : 0.4543 Validation Loss: 0.2547 Validation acc : 0.9257\n",
      "Epoch : 6 Training Loss : 0.4322 Validation Loss: 0.2334 Validation acc : 0.9351\n",
      "Epoch : 7 Training Loss : 0.4179 Validation Loss: 0.2548 Validation acc : 0.9300\n",
      "Epoch : 8 Training Loss : 0.4122 Validation Loss: 0.2763 Validation acc : 0.9205\n",
      "Epoch : 9 Training Loss : 0.4172 Validation Loss: 0.2684 Validation acc : 0.9233\n",
      "Epoch : 10 Training Loss : 0.4114 Validation Loss: 0.2222 Validation acc : 0.9370\n"
     ]
    }
   ],
   "source": [
    "for e in range(epochs):\n",
    "\n",
    "    train_loss = 0.0\n",
    "    valid_loss = 0.0\n",
    "    valid_acc = 0.0\n",
    "\n",
    "    model.train()\n",
    "\n",
    "    for images,labels in trainloader:\n",
    "\n",
    "        logps = model(images)\n",
    "        optimizer.zero_grad()\n",
    "        loss = criterion(logps,labels)\n",
    "        loss.backward()\n",
    "        optimizer.step()\n",
    "        train_loss += loss.item()\n",
    "\n",
    "    model.eval()\n",
    "\n",
    "    for images,labels in validloader:\n",
    "\n",
    "        logps = model(images)\n",
    "        loss = criterion(logps,labels)\n",
    "        valid_loss += loss.item()\n",
    "        valid_acc += multiclass_accuracy(torch.exp(logps),labels)\n",
    "\n",
    "    train_loss = train_loss/len(trainloader)\n",
    "    valid_loss = valid_loss/len(validloader)\n",
    "    valid_acc = valid_acc/len(validloader)\n",
    "\n",
    "    print(\"Epoch : {} Training Loss : {:.4f} Validation Loss: {:.4f} Validation acc : {:.4f}\".format(e+1,train_loss,valid_loss,valid_acc))"
   ]
  },
  {
   "cell_type": "markdown",
   "metadata": {},
   "source": [
    "## Task 5 : Evaluating the model"
   ]
  },
  {
   "cell_type": "code",
   "execution_count": 16,
   "metadata": {},
   "outputs": [
    {
     "name": "stdout",
     "output_type": "stream",
     "text": [
      "Test loss : 0.2200 Test accuracy : 0.9394\n"
     ]
    }
   ],
   "source": [
    "model.eval()\n",
    "\n",
    "loss = 0\n",
    "acc = 0\n",
    "for images,labels in testloader:\n",
    "\n",
    "    logps = model(images)\n",
    "    loss += criterion(logps,labels)\n",
    "    ps = torch.exp(logps)\n",
    "    acc += multiclass_accuracy(ps,labels)\n",
    "\n",
    "print(\"Test loss : {:.4f} Test accuracy : {:.4f}\".format(loss/len(testloader),acc/len(testloader)))"
   ]
  },
  {
   "cell_type": "code",
   "execution_count": 17,
   "metadata": {},
   "outputs": [
    {
     "data": {
      "image/png": "[encoded data removed]",
      "text/plain": [
       "<Figure size 432x648 with 2 Axes>"
      ]
     },
     "metadata": {
      "needs_background": "light"
     },
     "output_type": "display_data"
    }
   ],
   "source": [
    "dataiter = iter(testloader)\n",
    "images,labels = dataiter.next()\n",
    "\n",
    "n = 6\n",
    "logps = model(images[n])\n",
    "ps = torch.exp(logps)\n",
    "\n",
    "view_classify(images[n],ps)"
   ]
  },
  {
   "cell_type": "code",
   "execution_count": null,
   "metadata": {},
   "outputs": [],
   "source": []
  }
 ],
 "metadata": {
  "kernelspec": {
   "display_name": "Python 3.8.2 64-bit",
   "language": "python",
   "name": "python38264bit2192a74fbe504b1abaaa4085d0704b4c"
  },
  "language_info": {
   "codemirror_mode": {
    "name": "ipython",
    "version": 3
   },
   "file_extension": ".py",
   "mimetype": "text/x-python",
   "name": "python",
   "nbconvert_exporter": "python",
   "pygments_lexer": "ipython3",
   "version": "3.8.6"
  }
 },
 "nbformat": 4,
 "nbformat_minor": 2
}
